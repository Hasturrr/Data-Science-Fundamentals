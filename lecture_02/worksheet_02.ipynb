{
 "cells": [
  {
   "attachments": {},
   "cell_type": "markdown",
   "metadata": {},
   "source": [
    "# Worksheet 02\n",
    "\n",
    "Name:  Xudong Wang\n",
    "\n",
    "UID: U91936499\n",
    "\n",
    "### Topics\n",
    "\n",
    "- Effective Programming\n",
    "\n",
    "### Effective Programming\n",
    "\n",
    "a) What is a drawback of the top down approach?"
   ]
  },
  {
   "cell_type": "markdown",
   "metadata": {},
   "source": [
    "The potential to overlook lower-level details and implementation challenges, as it can be difficult to anticipate all issues at the initial planning stages. This might lead to encountering unexpected obstacles during the implementation phase, necessitating significant adjustments to the plan."
   ]
  },
  {
   "cell_type": "markdown",
   "metadata": {},
   "source": [
    "b) What is a drawback of the bottom up approach?"
   ]
  },
  {
   "cell_type": "markdown",
   "metadata": {},
   "source": [
    "Its potential difficulty in integrating individual components into a cohesive system. Additionally, without a clear, overarching plan from the outset, there's a risk of losing sight of the project's strategic goals"
   ]
  },
  {
   "cell_type": "markdown",
   "metadata": {},
   "source": [
    "c) What are 3 things you can do to have a better debugging experience?"
   ]
  },
  {
   "cell_type": "markdown",
   "metadata": {},
   "source": [
    "1. read the eroor carefully\n",
    "2. re-read the code\n",
    "3. Search online for help\n",
    "4. Take a break"
   ]
  },
  {
   "attachments": {},
   "cell_type": "markdown",
   "metadata": {},
   "source": [
    "d) (Optional) Follow along with the live coding. You can write your code here:"
   ]
  },
  {
   "cell_type": "code",
   "execution_count": 1,
   "metadata": {},
   "outputs": [
    {
     "name": "stdout",
     "output_type": "stream",
     "text": [
      "1 0 0 0 0 0 0 0\n",
      "0 0 0 0 1 0 0 0\n",
      "0 0 0 0 0 0 0 1\n",
      "0 0 0 0 0 1 0 0\n",
      "0 0 1 0 0 0 0 0\n",
      "0 0 0 0 0 0 1 0\n",
      "0 1 0 0 0 0 0 0\n",
      "0 0 0 1 0 0 0 0\n",
      "\n",
      "\n"
     ]
    },
    {
     "data": {
      "text/plain": [
       "True"
      ]
     },
     "execution_count": 1,
     "metadata": {},
     "output_type": "execute_result"
    }
   ],
   "source": [
    "class Board:\n",
    "    def __init__(self, size=8):\n",
    "        self.size = size\n",
    "        self.board = [[0] * size for _ in range(size)]\n",
    "    \n",
    "    def is_valid(self, row, col):\n",
    "        # row\n",
    "        for i in range(row):\n",
    "            if self.board[i][col] == 1:\n",
    "                return False\n",
    "        # left diagonal\n",
    "        for i, j in zip(range(row, -1, -1), range(col, -1, -1)):\n",
    "            if self.board[i][j] == 1:\n",
    "                return False\n",
    "        # right diagnol\n",
    "        for i, j in zip(range(row, -1, -1), range(col, self.size, 1)):\n",
    "            if self.board[i][j] == 1:\n",
    "                return False\n",
    "        return True\n",
    "    \n",
    "    def place_queen(self, row, col):\n",
    "        self.board[row][col] = 1\n",
    "    \n",
    "    def remove_queen(self, row, col):\n",
    "        self.board[row][col] = 0\n",
    "    \n",
    "    def print_board(self):\n",
    "        for row in self.board:\n",
    "            print(\" \".join(str(cell) for cell in row))\n",
    "        print(\"\\n\")\n",
    "    \n",
    "    def solve(self, row=0):\n",
    "        if row == self.size:\n",
    "            self.print_board()\n",
    "            return True\n",
    "        for col in range(self.size):\n",
    "            if self.is_valid(row, col):\n",
    "                self.place_queen(row, col)\n",
    "                if self.solve(row + 1):\n",
    "                    return True\n",
    "                self.remove_queen(row, col)\n",
    "        return False\n",
    "\n",
    "\n",
    "board = Board()\n",
    "board.solve()\n"
   ]
  },
  {
   "cell_type": "markdown",
   "metadata": {},
   "source": [
    "## Exercise\n",
    "\n",
    "This exercise will use the [Titanic dataset](https://www.kaggle.com/c/titanic/data) (https://www.kaggle.com/c/titanic/data). Download the file named `train.csv` and place it in the same folder as this notebook.\n",
    "\n",
    "The goal of this exercise is to practice using [pandas](https://pypi.org/project/pandas/) methods. If your:\n",
    "\n",
    "1. code is taking a long time to run\n",
    "2. code involves for loops or while loops\n",
    "3. code spans multiple lines\n",
    "\n",
    "look through the pandas documentation for alternatives. This [cheat sheet](https://pandas.pydata.org/Pandas_Cheat_Sheet.pdf) may come in handy.\n",
    "\n",
    "a) Complete the code below to read in a filepath to the `train.csv` and returns the DataFrame."
   ]
  },
  {
   "cell_type": "code",
   "execution_count": null,
   "metadata": {},
   "outputs": [],
   "source": [
    "import pandas as pd\n",
    "\n",
    "df = # your code here\n",
    "df.describe()"
   ]
  },
  {
   "cell_type": "markdown",
   "metadata": {},
   "source": [
    "b) Complete the code so it returns the number of rows that have at least one empty column value"
   ]
  },
  {
   "cell_type": "code",
   "execution_count": null,
   "metadata": {},
   "outputs": [],
   "source": [
    "print(\"there are \" +  str(...) + \" rows with at least one empty value\")"
   ]
  },
  {
   "cell_type": "markdown",
   "metadata": {},
   "source": [
    "c) Complete the code below to remove all columns with more than 200 NaN values"
   ]
  },
  {
   "cell_type": "code",
   "execution_count": null,
   "metadata": {},
   "outputs": [],
   "source": [
    "df = ...\n",
    "df.columns"
   ]
  },
  {
   "cell_type": "markdown",
   "metadata": {},
   "source": [
    "d) Complete the code below to replaces `male` with 0 and `female` with 1"
   ]
  },
  {
   "cell_type": "code",
   "execution_count": null,
   "metadata": {},
   "outputs": [],
   "source": [
    "df['Sex'] = ...\n",
    "df.head()"
   ]
  },
  {
   "cell_type": "markdown",
   "metadata": {},
   "source": [
    "e) Complete the code below to add four columns `First Name`, `Middle Name`, `Last Name`, and `Title` corresponding to the value in the `name` column.\n",
    "\n",
    "For example: `Braund, Mr. Owen Harris` would be: \n",
    "\n",
    "|First Name | Middle Name | Last Name | Title |\n",
    "|-----------|-------------|-----------|-------|\n",
    "| Owen      |  Harris     |  Braund   | Mr    |\n",
    "\n",
    "Anything not clearly one of the above 4 categories can be ignored."
   ]
  },
  {
   "cell_type": "code",
   "execution_count": null,
   "metadata": {},
   "outputs": [],
   "source": [
    "df[['First Name', 'Middle Name', 'Last Name', 'Title']] = ...\n",
    "df.head()"
   ]
  },
  {
   "cell_type": "markdown",
   "metadata": {},
   "source": [
    "f) Complete the code below to replace all missing ages with the average age"
   ]
  },
  {
   "cell_type": "code",
   "execution_count": null,
   "metadata": {},
   "outputs": [],
   "source": [
    "df['Age'] = ...\n",
    "df.head()"
   ]
  },
  {
   "cell_type": "markdown",
   "metadata": {},
   "source": [
    "g) Plot a bar chart of the average age of those that survived and did not survive. Briefly comment on what you observe."
   ]
  },
  {
   "cell_type": "code",
   "execution_count": null,
   "metadata": {},
   "outputs": [],
   "source": []
  }
 ],
 "metadata": {
  "kernelspec": {
   "display_name": "Python 3",
   "language": "python",
   "name": "python3"
  },
  "language_info": {
   "codemirror_mode": {
    "name": "ipython",
    "version": 3
   },
   "file_extension": ".py",
   "mimetype": "text/x-python",
   "name": "python",
   "nbconvert_exporter": "python",
   "pygments_lexer": "ipython3",
   "version": "3.7.15"
  },
  "orig_nbformat": 4,
  "vscode": {
   "interpreter": {
    "hash": "e7370f93d1d0cde622a1f8e1c04877d8463912d04d973331ad4851f04de6915a"
   }
  }
 },
 "nbformat": 4,
 "nbformat_minor": 2
}

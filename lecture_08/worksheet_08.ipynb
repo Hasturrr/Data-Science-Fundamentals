{
 "cells": [
  {
   "attachments": {},
   "cell_type": "markdown",
   "metadata": {},
   "source": [
    "# Worksheet 08\n",
    "\n",
    "Name: Xudong Wang   \n",
    "UID: U91936499\n",
    "\n",
    "### Topics\n",
    "\n",
    "- Soft Clustering\n",
    "- Clustering Aggregation\n",
    "\n",
    "### Probability Review\n",
    "\n",
    "Read through [the following](https://medium.com/@gallettilance/overview-of-probability-3272b72c82c8)\n",
    "\n",
    "### Soft Clustering\n",
    "\n",
    "We generate 10 data points that come from a normal distribution with mean 5 and variance 1."
   ]
  },
  {
   "cell_type": "code",
   "execution_count": 1,
   "metadata": {},
   "outputs": [
    {
     "name": "stdout",
     "output_type": "stream",
     "text": [
      "[4.39760234389257, 5.778371151108986, 4.6226350396958305, 5.652242933276219, 3.7737001788782023, 4.98430881558656, 5.154687380324923, 5.374983000840603, 3.3392812909295397, 3.714035394616637]\n"
     ]
    }
   ],
   "source": [
    "import random\n",
    "import numpy as np\n",
    "from sklearn.cluster import KMeans\n",
    "\n",
    "mean = 5\n",
    "stdev = 1\n",
    "\n",
    "s1 = np.random.normal(mean, stdev, 10).tolist()\n",
    "print(s1)"
   ]
  },
  {
   "cell_type": "markdown",
   "metadata": {},
   "source": [
    "a) Generate 10 more data points, this time coming from a normal distribution with mean 8 and variance 1."
   ]
  },
  {
   "cell_type": "code",
   "execution_count": 2,
   "metadata": {},
   "outputs": [
    {
     "name": "stdout",
     "output_type": "stream",
     "text": [
      "[9.595131553543577, 9.613199063196756, 7.749212618320668, 8.645413260334383, 8.030328296225603, 5.856215174259658, 6.99064526032186, 9.117975706978893, 7.914939563442569, 8.471182942434092]\n"
     ]
    }
   ],
   "source": [
    "s2 = np.random.normal( 8 , 1 , 10 ).tolist()\n",
    "print(s2)"
   ]
  },
  {
   "attachments": {},
   "cell_type": "markdown",
   "metadata": {},
   "source": [
    "b) Flip a fair coin 10 times. If the coin lands on H, then pick the last data point of `s1` and remove it from `s1`, if T then pick the last data point from `s2` and remove it from `s2`. Add these 10 points to a list called `data`."
   ]
  },
  {
   "cell_type": "code",
   "execution_count": 3,
   "metadata": {},
   "outputs": [
    {
     "name": "stdout",
     "output_type": "stream",
     "text": [
      "[3.714035394616637, 8.471182942434092, 3.3392812909295397, 5.374983000840603, 5.154687380324923, 7.914939563442569, 4.98430881558656, 3.7737001788782023, 9.117975706978893, 6.99064526032186]\n"
     ]
    }
   ],
   "source": [
    "data = []\n",
    "for i in range(10):\n",
    "    # flip coin\n",
    "    coin_output = random.choice([0, 1])\n",
    "    if coin_output == 0:\n",
    "        p1 = s1.pop()\n",
    "        data.append(p1)\n",
    "    else:\n",
    "        p2 = s2.pop()\n",
    "        data.append(p2)\n",
    "print(data)"
   ]
  },
  {
   "cell_type": "markdown",
   "metadata": {},
   "source": [
    "c) This `data` is a Gaussian Mixture Distribution with 2 mixture components. Over the next few questions we will walk through the GMM algorithm to see if we can uncover the parameters we used to generate this data. First, please list all these parameters of the GMM that created `data` and the values we know they have."
   ]
  },
  {
   "cell_type": "markdown",
   "metadata": {},
   "source": [
    "Mean, variance of the weight in each species, and mixture weights."
   ]
  },
  {
   "cell_type": "markdown",
   "metadata": {},
   "source": [
    "d) Let's assume there are two mixture components (note: we could plot the data and make the observation that there are two clusters). The EM algorithm asks us to start with a random `mean_j`, `variance_j`, `P(S_j)` for each component j. One method we could use to find sensible values for these is to apply K means with k=2 here.\n",
    "\n",
    "1. the centroids would be the estimates of the `mean_j`\n",
    "2. the intra-cluster variance could be the estimate of `variance_j`\n",
    "3. the proportion of points in each cluster could be the estimate of `P(S_j)`\n",
    "\n",
    "Go through this process and list the parameter estimates it gives. Are they close or far from the true values?"
   ]
  },
  {
   "cell_type": "code",
   "execution_count": 7,
   "metadata": {},
   "outputs": [
    {
     "name": "stdout",
     "output_type": "stream",
     "text": [
      "[8.471182942434092, 7.914939563442569, 9.117975706978893, 6.99064526032186]\n",
      "[3.714035394616637, 3.3392812909295397, 5.374983000840603, 5.154687380324923, 4.98430881558656, 3.7737001788782023]\n",
      "P(S_1) = 0.4,  P(S_2) = 0.6\n",
      "mean_1 = 8.123685868294354,  mean_2 = 4.390166010196077\n",
      "var_1 = 0.7805002464687244,  var_2 = 0.8009270178296815\n"
     ]
    }
   ],
   "source": [
    "kmeans = KMeans(2, init='k-means++').fit(X=np.array(data).reshape(-1, 1))\n",
    "\n",
    "s1 = [x[0] for x in filter(lambda x: x[1] == 0, zip(data, kmeans.labels_))]\n",
    "print(s1)\n",
    "s2 = [x[0] for x in filter(lambda x: x[1] == 1, zip(data, kmeans.labels_))]\n",
    "print(s2)\n",
    "\n",
    "prob_s = [ len(s1) / (len(s1) + len(s2)) , len(s2) / (len(s1) + len(s2)) ]\n",
    "mean = [ sum(s1)/len(s1) , sum(s2)/len(s2) ]\n",
    "var = [ sum(map(lambda x : (x - mean[0])**2, s1)) / len(s1) , sum(map(lambda x : (x - mean[1])**2, s2)) / len(s2) ]\n",
    "\n",
    "print(\"P(S_1) = \" + str(prob_s[0]) + \",  P(S_2) = \" + str(prob_s[1]))\n",
    "print(\"mean_1 = \" + str(mean[0]) + \",  mean_2 = \" + str(mean[1]))\n",
    "print(\"var_1 = \" + str(var[0]) + \",  var_2 = \" + str(var[1]))"
   ]
  },
  {
   "cell_type": "markdown",
   "metadata": {},
   "source": [
    "They are close to the real one"
   ]
  },
  {
   "cell_type": "markdown",
   "metadata": {},
   "source": [
    "e) For each data point, compute `P(S_j | X_i)`. Comment on which cluster you think each point belongs to based on the estimated probabilities. How does that compare to the truth?"
   ]
  },
  {
   "cell_type": "code",
   "execution_count": 8,
   "metadata": {},
   "outputs": [
    {
     "name": "stdout",
     "output_type": "stream",
     "text": [
      "point =  3.714035394616637\n",
      "probability of observing that point if it came from cluster 0 =  5.986972603826898e-08\n",
      "probability of observing that point if it came from cluster 1 =  0.3487927810540888\n",
      "point =  8.471182942434092\n",
      "probability of observing that point if it came from cluster 0 =  0.4629064461976769\n",
      "probability of observing that point if it came from cluster 1 =  1.1470301049561246e-06\n",
      "point =  3.3392812909295397\n",
      "probability of observing that point if it came from cluster 0 =  3.5402025590253708e-09\n",
      "probability of observing that point if it came from cluster 1 =  0.21061209476997902\n",
      "point =  5.374983000840603\n",
      "probability of observing that point if it came from cluster 0 =  0.0010360166009982057\n",
      "probability of observing that point if it came from cluster 1 =  0.2338894393928293\n",
      "point =  5.154687380324923\n",
      "probability of observing that point if it came from cluster 0 =  0.0003684494077843333\n",
      "probability of observing that point if it came from cluster 1 =  0.31583613952664435\n",
      "point =  7.914939563442569\n",
      "probability of observing that point if it came from cluster 0 =  0.49317875720263415\n",
      "probability of observing that point if it came from cluster 1 =  3.102337055547133e-05\n",
      "point =  4.98430881558656\n",
      "probability of observing that point if it came from cluster 0 =  0.00015681919388981408\n",
      "probability of observing that point if it came from cluster 1 =  0.37828752320126835\n",
      "point =  3.7737001788782023\n",
      "probability of observing that point if it came from cluster 0 =  9.194054258720987e-08\n",
      "probability of observing that point if it came from cluster 1 =  0.3704026084253557\n",
      "point =  9.117975706978893\n",
      "probability of observing that point if it came from cluster 0 =  0.22705882033435715\n",
      "probability of observing that point if it came from cluster 1 =  1.3518631039922094e-08\n",
      "point =  6.99064526032186\n",
      "probability of observing that point if it came from cluster 0 =  0.17820634119906215\n",
      "probability of observing that point if it came from cluster 1 =  0.002559540776404676\n",
      "3.714035394616637\n",
      "Probability of coming from S_1 = 1.1443225976238825e-07\n",
      "Probability of coming from S_2 = 0.9999998855677402\n",
      "\n",
      "8.471182942434092\n",
      "Probability of coming from S_1 = 0.999996283182538\n",
      "Probability of coming from S_2 = 3.716817461961142e-06\n",
      "\n",
      "3.3392812909295397\n",
      "Probability of coming from S_1 = 1.1206075394103213e-08\n",
      "Probability of coming from S_2 = 0.9999999887939246\n",
      "\n",
      "5.374983000840603\n",
      "Probability of coming from S_1 = 0.0029443148995674765\n",
      "Probability of coming from S_2 = 0.9970556851004324\n",
      "\n",
      "5.154687380324923\n",
      "Probability of coming from S_1 = 0.0007771183279793777\n",
      "Probability of coming from S_2 = 0.9992228816720206\n",
      "\n",
      "7.914939563442569\n",
      "Probability of coming from S_1 = 0.9999056515215996\n",
      "Probability of coming from S_2 = 9.43484784004568e-05\n",
      "\n",
      "4.98430881558656\n",
      "Probability of coming from S_1 = 0.00027629048739008917\n",
      "Probability of coming from S_2 = 0.9997237095126099\n",
      "\n",
      "3.7737001788782023\n",
      "Probability of coming from S_1 = 1.6547854556402358e-07\n",
      "Probability of coming from S_2 = 0.9999998345214544\n",
      "\n",
      "9.117975706978893\n",
      "Probability of coming from S_1 = 0.9999999106929882\n",
      "Probability of coming from S_2 = 8.930701180892198e-08\n",
      "\n",
      "6.99064526032186\n",
      "Probability of coming from S_1 = 0.9789101738231172\n",
      "Probability of coming from S_2 = 0.021089826176882785\n",
      "\n"
     ]
    }
   ],
   "source": [
    "from scipy.stats import norm\n",
    "\n",
    "prob_s0_x = [] # P(S_0 | X_i)\n",
    "prob_s1_x = [] # P(S_1 | X_i)\n",
    "prob_x = [] # P(X_i)\n",
    "\n",
    "k = 2\n",
    "\n",
    "for p in data:\n",
    "    print(\"point = \", p)\n",
    "    pdf_i = []\n",
    "\n",
    "    for j in range(k):\n",
    "        # P(X_i | S_j)\n",
    "        pdf_i.append(norm.pdf(p, mean[j], var[j]))\n",
    "        print(\"probability of observing that point if it came from cluster \" + str(j) + \" = \", pdf_i[j])\n",
    "        # P(S_j) already computed\n",
    "        prob_s[j]\n",
    "\n",
    "    # pdf_i(0) is p(p|s_0)\n",
    "\n",
    "    # P(X_i) = P(S_0)P(X_i | S_0) + P(S_1)P(X_i | S_1)\n",
    "    prob_x = prob_s[0] * pdf_i[0] + prob_s[1] * pdf_i[1]\n",
    "\n",
    "    # P(S_j | X_i) = P(X_i | S_j)P(S_j) / P(X_i)\n",
    "    prob_s0_x.append( pdf_i[0]*prob_s[0] / prob_x )\n",
    "    prob_s1_x.append( pdf_i[1]*prob_s[1] / prob_x )\n",
    "\n",
    "probs = zip(data, prob_s0_x, prob_s1_x)\n",
    "for p in probs:\n",
    "    print(p[0])\n",
    "    print(\"Probability of coming from S_1 = \" + str(p[1]))\n",
    "    print(\"Probability of coming from S_2 = \" + str(p[2]))\n",
    "    print()\n"
   ]
  },
  {
   "cell_type": "markdown",
   "metadata": {},
   "source": [
    "f) Having computed `P(S_j | X_i)`, update the estimates of `mean_j`, `var_j`, and `P(S_j)`. How different are these values from the original ones you got from K means? briefly comment."
   ]
  },
  {
   "cell_type": "code",
   "execution_count": 10,
   "metadata": {},
   "outputs": [
    {
     "name": "stdout",
     "output_type": "stream",
     "text": [
      "P(S_1) = 0.3982810034052061,  P(S_2) = 0.6017189965947939\n",
      "mean_1 = 8.126860756342621,  mean_2 = 4.398730490217925\n",
      "var_1 = 0.6129911525672916,  var_2 = 0.6629193353372256\n"
     ]
    }
   ],
   "source": [
    "prob_c = [sum(prob_s0_x)/ len(prob_s0_x), sum(prob_s1_x)/ len(prob_s1_x) ]\n",
    "mean = [sum([x[0] * x[1] for x in zip(prob_s0_x, data)]) / sum(prob_s0_x), sum([x[0] * x[1] for x in zip(prob_s1_x, data)]) / sum(prob_s1_x) ]\n",
    "var = [ sum(x[0] * (x[1] - mean[0])**2 for x in zip(prob_s0_x, data)) / sum(prob_s0_x) , sum(x[0] * (x[1] - mean[1])**2 for x in zip(prob_s1_x, data)) / sum(prob_s1_x) ]\n",
    "\n",
    "print(\"P(S_1) = \" + str(prob_c[0]) + \",  P(S_2) = \" + str(prob_c[1]))\n",
    "print(\"mean_1 = \" + str(mean[0]) + \",  mean_2 = \" + str(mean[1]))\n",
    "print(\"var_1 = \" + str(var[0]) + \",  var_2 = \" + str(var[1]))"
   ]
  },
  {
   "cell_type": "markdown",
   "metadata": {},
   "source": [
    "The different are not quite big"
   ]
  },
  {
   "cell_type": "markdown",
   "metadata": {},
   "source": [
    "g) Update `P(S_j | X_i)`. Comment on any differences or lack thereof you observe."
   ]
  },
  {
   "cell_type": "code",
   "execution_count": 16,
   "metadata": {},
   "outputs": [
    {
     "name": "stdout",
     "output_type": "stream",
     "text": [
      " Data points3.714035394616637: P(S_0 | X_i) = 6.810249263722238e-12, P(S_1 | X_i) = 0.9999999999931898\n",
      " Data points8.471182942434092: P(S_0 | X_i) = 0.999999989557944, P(S_1 | X_i) = 1.0442056028090372e-08\n",
      " Data points3.3392812909295397: P(S_0 | X_i) = 1.4575669903330363e-13, P(S_1 | X_i) = 0.9999999999998542\n",
      " Data points5.374983000840603: P(S_0 | X_i) = 8.900696232528017e-05, P(S_1 | X_i) = 0.9999109930376747\n",
      " Data points5.154687380324923: P(S_0 | X_i) = 1.076940112900813e-05, P(S_1 | X_i) = 0.999989230598871\n",
      " Data points7.914939563442569: P(S_0 | X_i) = 0.9999988466025636, P(S_1 | X_i) = 1.1533974365093866e-06\n",
      " Data points4.98430881558656: P(S_0 | X_i) = 2.075857227085457e-06, P(S_1 | X_i) = 0.999997924142773\n",
      " Data points3.7737001788782023: P(S_0 | X_i) = 1.2496808736201854e-11, P(S_1 | X_i) = 0.9999999999875032\n",
      " Data points9.117975706978893: P(S_0 | X_i) = 0.9999999999489296, P(S_1 | X_i) = 5.1070429846187426e-11\n",
      " Data points6.99064526032186: P(S_0 | X_i) = 0.9962836502664354, P(S_1 | X_i) = 0.0037163497335646494\n"
     ]
    }
   ],
   "source": [
    "mean_updated = mean\n",
    "var_updated = var\n",
    "prob_s_updated = prob_c\n",
    "\n",
    "prob_s0_x_updated = [] # P(S_0 | X_i)\n",
    "prob_s1_x_updated = [] # P(S_1 | X_i)\n",
    "prob_x_updated = [] # P(X_i)\n",
    "\n",
    "for p in data:\n",
    "    pdf_i_updated = []\n",
    "    for j in range(k):\n",
    "        # P(X_i | S_j)\n",
    "        pdf_i_updated.append(norm.pdf(p, mean_updated[j], var_updated[j]))\n",
    "    #  P(X_i)\n",
    "    prob_x_updated = prob_s_updated[0] * pdf_i_updated[0] + prob_s_updated[1] * pdf_i_updated[1]\n",
    "    # P(S_j | X_i)\n",
    "    prob_s0_x_updated.append(pdf_i_updated[0] * prob_s_updated[0] / prob_x_updated)\n",
    "    prob_s1_x_updated.append(pdf_i_updated[1] * prob_s_updated[1] / prob_x_updated)\n",
    "\n",
    "for i, p in enumerate(data):\n",
    "    print(f\" Data points{p}: P(S_0 | X_i) = {prob_s0_x_updated[i]}, P(S_1 | X_i) = {prob_s1_x_updated[i]}\")"
   ]
  },
  {
   "cell_type": "markdown",
   "metadata": {},
   "source": [
    "I didn't see any regular change"
   ]
  },
  {
   "cell_type": "markdown",
   "metadata": {},
   "source": [
    "h) Use `P(S_j | X_i)` to create a hard assignment - label each point as belonging to a specific cluster (0 or 1)"
   ]
  },
  {
   "cell_type": "code",
   "execution_count": null,
   "metadata": {},
   "outputs": [],
   "source": [
    "hard_labels = [0 if s0 > s1 else 1 for s0, s1 in zip(prob_s0_x, prob_s1_x)]\n"
   ]
  }
 ],
 "metadata": {
  "kernelspec": {
   "display_name": "Python 3",
   "language": "python",
   "name": "python3"
  },
  "language_info": {
   "codemirror_mode": {
    "name": "ipython",
    "version": 3
   },
   "file_extension": ".py",
   "mimetype": "text/x-python",
   "name": "python",
   "nbconvert_exporter": "python",
   "pygments_lexer": "ipython3",
   "version": "3.7.15"
  },
  "orig_nbformat": 4,
  "vscode": {
   "interpreter": {
    "hash": "e7370f93d1d0cde622a1f8e1c04877d8463912d04d973331ad4851f04de6915a"
   }
  }
 },
 "nbformat": 4,
 "nbformat_minor": 2
}

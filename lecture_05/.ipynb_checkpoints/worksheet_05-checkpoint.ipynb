{
 "cells": [
  {
   "cell_type": "markdown",
   "metadata": {},
   "source": [
    "# Worksheet 05\n",
    "\n",
    "Name: Xudong Wang \n",
    "\n",
    "UID: U91936499\n",
    "\n",
    "### Topics\n",
    "\n",
    "- Cost Functions\n",
    "- Kmeans\n",
    "\n",
    "### Cost Function\n",
    "\n",
    "Solving Data Science problems often starts by defining a metric with which to evaluate solutions were you able to find some. This metric is called a cost function. Data Science then backtracks and tries to find a process / algorithm to find solutions that can optimize for that cost function.\n",
    "\n",
    "For example suppose you are asked to cluster three points A, B, C into two non-empty clusters. If someone gave you the solution `{A, B}, {C}`, how would you evaluate that this is a good solution?\n",
    "\n",
    "Notice that because the clusters need to be non-empty and all points must be assigned to a cluster, it must be that two of the three points will be together in one cluster and the third will be alone in the other cluster.\n",
    "\n",
    "In the above solution, if A and B are closer than A and C, and B and C, then this is a good solution. The smaller the distance between the two points in the same cluster (here A and B), the better the solution. So we can define our cost function to be that distance (between A and B here)!\n",
    "\n",
    "The algorithm / process would involve clustering together the two closest points and put the third in its own cluster. This process optimizes for that cost function because no other pair of points could have a lower distance (although it could equal it)."
   ]
  },
  {
   "cell_type": "markdown",
   "metadata": {},
   "source": [
    "### K means\n",
    "\n",
    "a) (1-dimensional clustering) Walk through Lloyd's algorithm step by step on the following dataset:\n",
    "\n",
    "`[0, .5, 1.5, 2, 6, 6.5, 7]` (note: each of these are 1-dimensional data points)\n",
    "\n",
    "Given the initial centroids:\n",
    "\n",
    "`[0, 2]`"
   ]
  },
  {
   "cell_type": "markdown",
   "metadata": {},
   "source": [
    "1. For centroid 0, the nearest points are [0, .5] as a. For centroid 2, the nearest points are [1.5, 2, 6, 6.5, 7] as b.\n",
    "2. mean of a is 0.25, b is 4.6. Updating the cluster a as [0, .5, 1.5, 2], b as [6, 6.5, 7].\n",
    "3. mean of a is 1, b is 6.5. Updating a [0, .5, 1.5, 2], b [6, 6.5, 7]. Converging.\n",
    "4. The result is [0, .5, 1.5, 2], [6, 6.5, 7]."
   ]
  },
  {
   "cell_type": "markdown",
   "metadata": {},
   "source": [
    "b) Describe in plain english what the cost function for k means is."
   ]
  },
  {
   "cell_type": "markdown",
   "metadata": {},
   "source": [
    "Calculate the sum of the distances of points in a cluster to its centroid and the variance of them. Then take the sum of all clusters."
   ]
  },
  {
   "cell_type": "markdown",
   "metadata": {},
   "source": [
    "c) For the same number of clusters K, why could there be very different solutions to the K means algorithm on a given dataset?"
   ]
  },
  {
   "cell_type": "markdown",
   "metadata": {},
   "source": [
    "It's depends on the initial centroid we defined, if the centroid are different, the result will also change."
   ]
  },
  {
   "cell_type": "markdown",
   "metadata": {},
   "source": [
    "d) Does Lloyd's Algorithm always converge? Why / why not?"
   ]
  },
  {
   "cell_type": "markdown",
   "metadata": {},
   "source": [
    "Yes. This is because the algorithm iteratively refines the cluster assignments and the positions of the centroids."
   ]
  },
  {
   "cell_type": "markdown",
   "metadata": {},
   "source": [
    "e) Follow along in class the implementation of Kmeans"
   ]
  },
  {
   "cell_type": "code",
   "execution_count": 15,
   "metadata": {},
   "outputs": [],
   "source": [
    "import numpy as np\n",
    "from PIL import Image\n",
    "import matplotlib.pyplot as plt\n",
    "import sklearn.datasets as datasets\n",
    "\n",
    "\n",
    "centers = [[0, 0], [2, 2], [-3, 2], [2, -4]]\n",
    "X, _ = datasets.make_blobs(n_samples=300, centers=centers, cluster_std=1, random_state=0)\n",
    "\n",
    "class KMeans:\n",
    "\n",
    "    def __init__(self, data, k):\n",
    "        self.data = data\n",
    "        self.k = k\n",
    "        # Initialize centers by selecting k random points from the data\n",
    "        self.centers = data[np.random.choice(len(data), k, replace=False)]\n",
    "        self.assignment = np.array([-1] * len(data))\n",
    "        self.snaps = []\n",
    "\n",
    "    def snap(self, centers):\n",
    "        TEMPFILE = \"temp.png\"\n",
    "\n",
    "        fig, ax = plt.subplots()\n",
    "        ax.scatter(self.data[:, 0], self.data[:, 1], c=self.assignment)\n",
    "        ax.scatter(centers[:, 0], centers[:, 1], c='r')  # Plot centers in red\n",
    "        fig.savefig(TEMPFILE)\n",
    "        plt.close()\n",
    "        # Append the image read from TEMPFILE to snaps\n",
    "        self.snaps.append(Image.fromarray(np.asarray(Image.open(TEMPFILE))))\n",
    "\n",
    "    def update_assignments(self):\n",
    "        # Assign each point to the nearest center\n",
    "        for i in range(len(self.data)):\n",
    "            distances = np.sqrt(((self.data[i] - self.centers) ** 2).sum(axis=1))\n",
    "            self.assignment[i] = np.argmin(distances)\n",
    "\n",
    "    def update_centers(self):\n",
    "        # Update centers to be the mean of points assigned to them\n",
    "        new_centers = np.zeros_like(self.centers)\n",
    "        for i in range(self.k):\n",
    "            points = self.data[self.assignment == i]\n",
    "            if len(points) > 0:\n",
    "                new_centers[i] = points.mean(axis=0)\n",
    "            else:\n",
    "                # Reinitialize a center if it has no points assigned to it\n",
    "                new_centers[i] = self.data[np.random.randint(0, len(self.data))]\n",
    "        return new_centers\n",
    "\n",
    "    def lloyds(self, max_iters=100):\n",
    "        for _ in range(max_iters):\n",
    "            old_assignment = self.assignment.copy()\n",
    "            self.update_assignments()\n",
    "            new_centers = self.update_centers()\n",
    "            self.snap(new_centers)\n",
    "            if np.all(new_centers == self.centers) or np.array_equal(old_assignment, self.assignment):\n",
    "                break  # Exit if centers do not change or assignments do not change\n",
    "            self.centers = new_centers\n",
    "\n",
    "\n",
    "\n",
    "kmeans = KMeans(X, 4)\n",
    "kmeans.lloyds()\n",
    "images = kmeans.snaps\n",
    "\n",
    "# Save the GIF\n",
    "images[0].save(\n",
    "    'kmeans.gif',\n",
    "    save_all=True,\n",
    "    append_images=images[1:],\n",
    "    optimize=False,\n",
    "    duration=400,\n",
    "    loop=0\n",
    ")\n"
   ]
  },
  {
   "cell_type": "code",
   "execution_count": null,
   "metadata": {},
   "outputs": [],
   "source": []
  }
 ],
 "metadata": {
  "kernelspec": {
   "display_name": "Python 3 (ipykernel)",
   "language": "python",
   "name": "python3"
  },
  "language_info": {
   "codemirror_mode": {
    "name": "ipython",
    "version": 3
   },
   "file_extension": ".py",
   "mimetype": "text/x-python",
   "name": "python",
   "nbconvert_exporter": "python",
   "pygments_lexer": "ipython3",
   "version": "3.9.7"
  },
  "vscode": {
   "interpreter": {
    "hash": "76ca05dc3ea24b2e3b98cdb7774adfbb40773424bf5109b477fd793f623715af"
   }
  }
 },
 "nbformat": 4,
 "nbformat_minor": 2
}
